{
  "nbformat": 4,
  "nbformat_minor": 0,
  "metadata": {
    "colab": {
      "name": "Untitled4.ipynb",
      "provenance": [],
      "collapsed_sections": [],
      "authorship_tag": "ABX9TyPJN0sd7+Nfm/8O/LMGnrhc",
      "include_colab_link": true
    },
    "kernelspec": {
      "name": "python3",
      "display_name": "Python 3"
    }
  },
  "cells": [
    {
      "cell_type": "markdown",
      "metadata": {
        "id": "view-in-github",
        "colab_type": "text"
      },
      "source": [
        "<a href=\"https://colab.research.google.com/github/ashok-python/data/blob/master/Outliers.ipynb\" target=\"_parent\"><img src=\"https://colab.research.google.com/assets/colab-badge.svg\" alt=\"Open In Colab\"/></a>"
      ]
    },
    {
      "cell_type": "code",
      "metadata": {
        "id": "tsxyD8uhhjyf",
        "colab_type": "code",
        "colab": {
          "base_uri": "https://localhost:8080/",
          "height": 71
        },
        "outputId": "8704ccc0-3185-4b9f-90b6-01a3cdf9f59a"
      },
      "source": [
        "import pandas as pd\n",
        "import matplotlib.pyplot as plt\n",
        "import seaborn as sns\n"
      ],
      "execution_count": 1,
      "outputs": [
        {
          "output_type": "stream",
          "text": [
            "/usr/local/lib/python3.6/dist-packages/statsmodels/tools/_testing.py:19: FutureWarning: pandas.util.testing is deprecated. Use the functions in the public API at pandas.testing instead.\n",
            "  import pandas.util.testing as tm\n"
          ],
          "name": "stderr"
        }
      ]
    },
    {
      "cell_type": "code",
      "metadata": {
        "id": "kKpPfyrYiPjb",
        "colab_type": "code",
        "colab": {
          "base_uri": "https://localhost:8080/",
          "height": 235
        },
        "outputId": "7ca6a60a-f3ee-40cb-cdc3-bae8e5fdb484"
      },
      "source": [
        "url = \"https://raw.githubusercontent.com/ashok-python/data/master/salaries33.csv\"\n",
        "df = pd.read_csv(url)\n",
        "df"
      ],
      "execution_count": 2,
      "outputs": [
        {
          "output_type": "execute_result",
          "data": {
            "text/html": [
              "<div>\n",
              "<style scoped>\n",
              "    .dataframe tbody tr th:only-of-type {\n",
              "        vertical-align: middle;\n",
              "    }\n",
              "\n",
              "    .dataframe tbody tr th {\n",
              "        vertical-align: top;\n",
              "    }\n",
              "\n",
              "    .dataframe thead th {\n",
              "        text-align: right;\n",
              "    }\n",
              "</style>\n",
              "<table border=\"1\" class=\"dataframe\">\n",
              "  <thead>\n",
              "    <tr style=\"text-align: right;\">\n",
              "      <th></th>\n",
              "      <th>Name</th>\n",
              "      <th>Salary</th>\n",
              "      <th>Gender</th>\n",
              "      <th>Age</th>\n",
              "    </tr>\n",
              "  </thead>\n",
              "  <tbody>\n",
              "    <tr>\n",
              "      <th>0</th>\n",
              "      <td>John</td>\n",
              "      <td>50000</td>\n",
              "      <td>Male</td>\n",
              "      <td>34</td>\n",
              "    </tr>\n",
              "    <tr>\n",
              "      <th>1</th>\n",
              "      <td>Samson</td>\n",
              "      <td>120000</td>\n",
              "      <td>Male</td>\n",
              "      <td>45</td>\n",
              "    </tr>\n",
              "    <tr>\n",
              "      <th>2</th>\n",
              "      <td>Jack</td>\n",
              "      <td>80000</td>\n",
              "      <td>Male</td>\n",
              "      <td>27</td>\n",
              "    </tr>\n",
              "    <tr>\n",
              "      <th>3</th>\n",
              "      <td>Jones</td>\n",
              "      <td>49900</td>\n",
              "      <td>Female</td>\n",
              "      <td>33</td>\n",
              "    </tr>\n",
              "    <tr>\n",
              "      <th>4</th>\n",
              "      <td>Sarala</td>\n",
              "      <td>121000</td>\n",
              "      <td>Female</td>\n",
              "      <td>44</td>\n",
              "    </tr>\n",
              "    <tr>\n",
              "      <th>5</th>\n",
              "      <td>Ayesha</td>\n",
              "      <td>79999</td>\n",
              "      <td>Female</td>\n",
              "      <td>26</td>\n",
              "    </tr>\n",
              "  </tbody>\n",
              "</table>\n",
              "</div>"
            ],
            "text/plain": [
              "     Name  Salary  Gender  Age\n",
              "0    John   50000    Male   34\n",
              "1  Samson  120000    Male   45\n",
              "2    Jack   80000    Male   27\n",
              "3   Jones   49900  Female   33\n",
              "4  Sarala  121000  Female   44\n",
              "5  Ayesha   79999  Female   26"
            ]
          },
          "metadata": {
            "tags": []
          },
          "execution_count": 2
        }
      ]
    },
    {
      "cell_type": "code",
      "metadata": {
        "id": "JXMtO2UKictS",
        "colab_type": "code",
        "colab": {
          "base_uri": "https://localhost:8080/",
          "height": 265
        },
        "outputId": "003012d1-9a1a-4868-a34b-740b0d57b511"
      },
      "source": [
        "df.Salary.plot(kind='box')\n",
        "plt.show()"
      ],
      "execution_count": 3,
      "outputs": [
        {
          "output_type": "display_data",
          "data": {
            "image/png": "[encoded data removed]",
            "text/plain": [
              "<Figure size 432x288 with 1 Axes>"
            ]
          },
          "metadata": {
            "tags": [],
            "needs_background": "light"
          }
        }
      ]
    },
    {
      "cell_type": "code",
      "metadata": {
        "id": "31Zq_NTlilwA",
        "colab_type": "code",
        "colab": {}
      },
      "source": [
        "#introduce outliers by adding some rows of data with extrem values\n",
        "\n",
        "df=df.append({'Name':'Mary', 'Salary':15000, 'Gender':'Female', 'Age':29},ignore_index=True)\n",
        "df=df.append({'Name':'Sandy', 'Salary':300000, 'Gender':'Female', 'Age':39},ignore_index=True)"
      ],
      "execution_count": 0,
      "outputs": []
    },
    {
      "cell_type": "code",
      "metadata": {
        "id": "dClcilRIirVR",
        "colab_type": "code",
        "colab": {
          "base_uri": "https://localhost:8080/",
          "height": 265
        },
        "outputId": "3cacf759-cfcc-435d-8109-b7ad9ec394e0"
      },
      "source": [
        "#Find out whether box plot identifies these extrems\n",
        "\n",
        "df.Salary.plot(kind='box')\n",
        "plt.show()\n"
      ],
      "execution_count": 5,
      "outputs": [
        {
          "output_type": "display_data",
          "data": {
            "image/png": "[encoded data removed]",
            "text/plain": [
              "<Figure size 432x288 with 1 Axes>"
            ]
          },
          "metadata": {
            "tags": [],
            "needs_background": "light"
          }
        }
      ]
    },
    {
      "cell_type": "code",
      "metadata": {
        "id": "HGQipH_qixtT",
        "colab_type": "code",
        "colab": {
          "base_uri": "https://localhost:8080/",
          "height": 34
        },
        "outputId": "bf981782-f564-4153-c2ab-e1e63657474e"
      },
      "source": [
        "#Let us find outliers in salary column\n",
        "\n",
        "n = len(df['Salary'])  #size of data series\n",
        "n"
      ],
      "execution_count": 6,
      "outputs": [
        {
          "output_type": "execute_result",
          "data": {
            "text/plain": [
              "8"
            ]
          },
          "metadata": {
            "tags": []
          },
          "execution_count": 6
        }
      ]
    },
    {
      "cell_type": "code",
      "metadata": {
        "id": "R2dYiY0ojBoE",
        "colab_type": "code",
        "colab": {
          "base_uri": "https://localhost:8080/",
          "height": 34
        },
        "outputId": "f57881dc-2358-4211-a3f4-3c14005bc6de"
      },
      "source": [
        "#Create list from Salary column\n",
        "sal_list = list(df.Salary.sort_values(ascending=True))\n",
        "sal_list"
      ],
      "execution_count": 7,
      "outputs": [
        {
          "output_type": "execute_result",
          "data": {
            "text/plain": [
              "[15000, 49900, 50000, 79999, 80000, 120000, 121000, 300000]"
            ]
          },
          "metadata": {
            "tags": []
          },
          "execution_count": 7
        }
      ]
    },
    {
      "cell_type": "code",
      "metadata": {
        "id": "YaOHyqtsjUVO",
        "colab_type": "code",
        "colab": {
          "base_uri": "https://localhost:8080/",
          "height": 34
        },
        "outputId": "af280e91-2822-45fd-dba5-a4a249c635c7"
      },
      "source": [
        "#Let us compute Lower quartile Q1\n",
        "\n",
        "Q1_pos = (1/4) * (n+1)\n",
        "Q1_pos\n",
        "\n",
        "Q1_pos =int(Q1_pos+0.5)\n",
        "Q1_pos\n",
        "\n",
        "Q1 = sal_list[Q1_pos-1]\n",
        "Q1\n"
      ],
      "execution_count": 8,
      "outputs": [
        {
          "output_type": "execute_result",
          "data": {
            "text/plain": [
              "49900"
            ]
          },
          "metadata": {
            "tags": []
          },
          "execution_count": 8
        }
      ]
    },
    {
      "cell_type": "code",
      "metadata": {
        "id": "zJ9qIUsMjazT",
        "colab_type": "code",
        "colab": {}
      },
      "source": [
        "#let us compute upper quartile(Q3)\n",
        "\n",
        "#Q3 = (3/4) * (n+1) item in the list\n",
        "\n",
        "Q3_pos = int((3/4) * (n+1)+0.5)\n",
        "Q3_pos\n",
        "\n",
        "Q3 = sal_list[Q3_pos - 1] #since list starts from 0 position"
      ],
      "execution_count": 0,
      "outputs": []
    },
    {
      "cell_type": "code",
      "metadata": {
        "id": "3UiNEYCEjuWC",
        "colab_type": "code",
        "colab": {
          "base_uri": "https://localhost:8080/",
          "height": 34
        },
        "outputId": "d4e2fbba-e7be-4401-c57c-297d1f2ba889"
      },
      "source": [
        "Q3"
      ],
      "execution_count": 10,
      "outputs": [
        {
          "output_type": "execute_result",
          "data": {
            "text/plain": [
              "121000"
            ]
          },
          "metadata": {
            "tags": []
          },
          "execution_count": 10
        }
      ]
    },
    {
      "cell_type": "code",
      "metadata": {
        "id": "PiO4cEcnjyDn",
        "colab_type": "code",
        "colab": {
          "base_uri": "https://localhost:8080/",
          "height": 34
        },
        "outputId": "1e13bcee-454f-40b2-a41b-86e8af5ea316"
      },
      "source": [
        "#find Median(Quartile #Q2) = (1/2) * (n+1)\n",
        "\n",
        "Q2_pos = (1/2) * (n+1)\n",
        "Q2_pos = int(Q2_pos)\n",
        "\n",
        "Q2 = sal_list[Q2_pos-1] #Note it starts from 0\n",
        "Q2"
      ],
      "execution_count": 11,
      "outputs": [
        {
          "output_type": "execute_result",
          "data": {
            "text/plain": [
              "79999"
            ]
          },
          "metadata": {
            "tags": []
          },
          "execution_count": 11
        }
      ]
    },
    {
      "cell_type": "code",
      "metadata": {
        "id": "XGoy1rKwj6jt",
        "colab_type": "code",
        "colab": {
          "base_uri": "https://localhost:8080/",
          "height": 170
        },
        "outputId": "1282dde5-361d-4430-dbb9-92d8f2bcdeb2"
      },
      "source": [
        "#Compute Inter Quartile Range(IQR) = Q3 - Q1\n",
        "\n",
        "print('\\nQ1 =\\n', Q1)\n",
        "print('\\nQ2 =\\n', Q2)\n",
        "print('\\nQ3 =\\n', Q3)"
      ],
      "execution_count": 12,
      "outputs": [
        {
          "output_type": "stream",
          "text": [
            "\n",
            "Q1 =\n",
            " 49900\n",
            "\n",
            "Q2 =\n",
            " 79999\n",
            "\n",
            "Q3 =\n",
            " 121000\n"
          ],
          "name": "stdout"
        }
      ]
    },
    {
      "cell_type": "code",
      "metadata": {
        "id": "F7R6ymEHkCkK",
        "colab_type": "code",
        "colab": {
          "base_uri": "https://localhost:8080/",
          "height": 136
        },
        "outputId": "fca6b7ce-a8e0-493a-eaac-dbd4f7e84bca"
      },
      "source": [
        "IQR = Q3-Q1 #computing inter Quartile\n",
        "#IQR\n",
        "\n",
        "print('\\nIQR =\\n',IQR)\n",
        "\n",
        "lower_limit = Q1 - 1.5 * IQR #compute lower\n",
        "lower_limit\n",
        "\n",
        "upper_limit = Q3 + 1.5 * IQR #compute upper limit\n",
        "upper_limit\n",
        "\n",
        "#So outliers are < lower_limit and > upper_limit\n",
        "\n",
        "print('\\nLower limit = ',lower_limit)\n",
        "print('\\nUpper limit = ',upper_limit)"
      ],
      "execution_count": 13,
      "outputs": [
        {
          "output_type": "stream",
          "text": [
            "\n",
            "IQR =\n",
            " 71100\n",
            "\n",
            "Lower limit =  -56750.0\n",
            "\n",
            "Upper limit =  227650.0\n"
          ],
          "name": "stdout"
        }
      ]
    },
    {
      "cell_type": "code",
      "metadata": {
        "id": "XC2cGAx3kLPD",
        "colab_type": "code",
        "colab": {
          "base_uri": "https://localhost:8080/",
          "height": 255
        },
        "outputId": "d7ba7b4f-6997-43b0-b7a7-16dd770abc8d"
      },
      "source": [
        "#Let us verify from DataFrame if any outliers are available in salary range in this data\n",
        "\n",
        "df.head(2)\n",
        "\n",
        "#print min and max\n",
        "\n",
        "print('\\n Minimum Salary = \\n',df['Salary'].min())\n",
        "print('\\nMaximum Salary = \\n', df['Salary'].max())\n",
        "\n",
        "#Verify outliers in the DataFrame for the both ends of quartiles\n",
        "\n",
        "print('Outlier at lower end : \\n',df[df['Salary'] < lower_limit])\n",
        "\n",
        "print('\\nOutlier at higher end : \\n',df[df['Salary'] > upper_limit])\n"
      ],
      "execution_count": 14,
      "outputs": [
        {
          "output_type": "stream",
          "text": [
            "\n",
            " Minimum Salary = \n",
            " 15000\n",
            "\n",
            "Maximum Salary = \n",
            " 300000\n",
            "Outlier at lower end : \n",
            " Empty DataFrame\n",
            "Columns: [Name, Salary, Gender, Age]\n",
            "Index: []\n",
            "\n",
            "Outlier at higher end : \n",
            "     Name  Salary  Gender  Age\n",
            "7  Sandy  300000  Female   39\n"
          ],
          "name": "stdout"
        }
      ]
    },
    {
      "cell_type": "code",
      "metadata": {
        "id": "Nmk9k2ZWkS9b",
        "colab_type": "code",
        "colab": {}
      },
      "source": [
        "#Let us draw the box plot using Seaborn library"
      ],
      "execution_count": 0,
      "outputs": []
    },
    {
      "cell_type": "code",
      "metadata": {
        "id": "Ol8V_WBhkjAt",
        "colab_type": "code",
        "colab": {
          "base_uri": "https://localhost:8080/",
          "height": 279
        },
        "outputId": "78d18630-8093-492b-c9e8-e27f6eb8b93a"
      },
      "source": [
        "sns.set_style('whitegrid')\n",
        "sns.boxplot(df['Salary'],color='green')\n",
        "plt.show()"
      ],
      "execution_count": 16,
      "outputs": [
        {
          "output_type": "display_data",
          "data": {
            "image/png": "[encoded data removed]",
            "text/plain": [
              "<Figure size 432x288 with 1 Axes>"
            ]
          },
          "metadata": {
            "tags": []
          }
        }
      ]
    },
    {
      "cell_type": "code",
      "metadata": {
        "id": "9Ix7ZgYgkrut",
        "colab_type": "code",
        "colab": {}
      },
      "source": [
        ""
      ],
      "execution_count": 0,
      "outputs": []
    }
  ]
}